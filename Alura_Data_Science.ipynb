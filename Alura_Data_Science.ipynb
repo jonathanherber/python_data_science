{
  "nbformat": 4,
  "nbformat_minor": 0,
  "metadata": {
    "colab": {
      "name": "Alura Data Science",
      "provenance": [],
      "authorship_tag": "ABX9TyOx7rTtF5ZSZ2N5GrQ/YiqA",
      "include_colab_link": true
    },
    "kernelspec": {
      "name": "python3",
      "display_name": "Python 3"
    },
    "language_info": {
      "name": "python"
    }
  },
  "cells": [
    {
      "cell_type": "markdown",
      "metadata": {
        "id": "view-in-github",
        "colab_type": "text"
      },
      "source": [
        "<a href=\"https://colab.research.google.com/github/jonathanherber/python_data_science/blob/main/Alura_Data_Science.ipynb\" target=\"_parent\"><img src=\"https://colab.research.google.com/assets/colab-badge.svg\" alt=\"Open In Colab\"/></a>"
      ]
    },
    {
      "cell_type": "code",
      "source": [
        "import numpy as np"
      ],
      "metadata": {
        "id": "0V30mY09YdGj"
      },
      "execution_count": 2,
      "outputs": []
    },
    {
      "cell_type": "code",
      "source": [
        "km = np.loadtxt('carros-km.txt')"
      ],
      "metadata": {
        "id": "wQ0VC3KRYsxx"
      },
      "execution_count": 5,
      "outputs": []
    },
    {
      "cell_type": "code",
      "source": [
        "km"
      ],
      "metadata": {
        "id": "yWgncqUiZacJ"
      },
      "execution_count": null,
      "outputs": []
    },
    {
      "cell_type": "code",
      "source": [
        "anos = np.loadtxt('carros-anos.txt',dtype=int)"
      ],
      "metadata": {
        "id": "BcqM7tPsZgUB"
      },
      "execution_count": 9,
      "outputs": []
    },
    {
      "cell_type": "code",
      "source": [
        "anos"
      ],
      "metadata": {
        "id": "Fxx47Vp1ZpvE"
      },
      "execution_count": null,
      "outputs": []
    },
    {
      "cell_type": "code",
      "source": [
        "km_media = km / (2022-anos)"
      ],
      "metadata": {
        "id": "9l2wtYCGZrJy"
      },
      "execution_count": 11,
      "outputs": []
    },
    {
      "cell_type": "code",
      "source": [
        "km_media"
      ],
      "metadata": {
        "id": "WM1pSuBYaDsy"
      },
      "execution_count": null,
      "outputs": []
    },
    {
      "cell_type": "code",
      "source": [
        "type(km_media)"
      ],
      "metadata": {
        "id": "zN6nPoSsaEy5"
      },
      "execution_count": null,
      "outputs": []
    },
    {
      "cell_type": "code",
      "source": [
        "np.arange(10)"
      ],
      "metadata": {
        "id": "dzPm27KCaGkq"
      },
      "execution_count": null,
      "outputs": []
    },
    {
      "cell_type": "code",
      "source": [
        "var = np.array([1,2,3,4])"
      ],
      "metadata": {
        "id": "rm62IdiitVPz"
      },
      "execution_count": 19,
      "outputs": []
    },
    {
      "cell_type": "code",
      "source": [
        "var.dtype"
      ],
      "metadata": {
        "id": "01rWv5wwuEjU"
      },
      "execution_count": null,
      "outputs": []
    },
    {
      "cell_type": "code",
      "source": [
        "var.shape"
      ],
      "metadata": {
        "id": "RYBzTlxiuaar"
      },
      "execution_count": null,
      "outputs": []
    },
    {
      "cell_type": "code",
      "source": [
        "lista = [[4,3,2,1,1], [5,6,7,8,9]]"
      ],
      "metadata": {
        "id": "c5duU5Iju4b8"
      },
      "execution_count": 27,
      "outputs": []
    },
    {
      "cell_type": "code",
      "source": [
        "num = np.array(lista)"
      ],
      "metadata": {
        "id": "q3SHCr2hu_Py"
      },
      "execution_count": 28,
      "outputs": []
    },
    {
      "cell_type": "code",
      "source": [
        "num"
      ],
      "metadata": {
        "id": "OVhlJMzvvEec"
      },
      "execution_count": null,
      "outputs": []
    },
    {
      "cell_type": "code",
      "source": [
        "num.shape"
      ],
      "metadata": {
        "id": "QUW7QBl3vE_7"
      },
      "execution_count": null,
      "outputs": []
    },
    {
      "cell_type": "code",
      "source": [
        "np_array = np.arange(1000000)"
      ],
      "metadata": {
        "id": "Rcn3_JpCvHtq"
      },
      "execution_count": 31,
      "outputs": []
    },
    {
      "cell_type": "code",
      "source": [
        "py_list = list(range(1000000))"
      ],
      "metadata": {
        "id": "rhGfi-ADv9c1"
      },
      "execution_count": 32,
      "outputs": []
    },
    {
      "cell_type": "code",
      "source": [
        "%time for _ in range(100): np_array * 2   #importante se atentar o tempo de execucao de numpy em relacao ao list padrao do python"
      ],
      "metadata": {
        "colab": {
          "base_uri": "https://localhost:8080/"
        },
        "id": "u9z-DTs5wAc6",
        "outputId": "ed1f82a8-0778-401a-8f8f-1da770567fe5"
      },
      "execution_count": 34,
      "outputs": [
        {
          "output_type": "stream",
          "name": "stdout",
          "text": [
            "CPU times: user 112 ms, sys: 2.39 ms, total: 114 ms\n",
            "Wall time: 118 ms\n"
          ]
        }
      ]
    },
    {
      "cell_type": "code",
      "source": [
        "%time for _ in range(100): py_pylist = [x * 2 for x in py_list] "
      ],
      "metadata": {
        "colab": {
          "base_uri": "https://localhost:8080/"
        },
        "id": "WRFOC4AywIbj",
        "outputId": "403a3b62-cbbc-4d4a-91e5-8aace5928cb9"
      },
      "execution_count": 35,
      "outputs": [
        {
          "output_type": "stream",
          "name": "stdout",
          "text": [
            "CPU times: user 8.55 s, sys: 2.01 s, total: 10.6 s\n",
            "Wall time: 10.6 s\n"
          ]
        }
      ]
    },
    {
      "cell_type": "code",
      "source": [
        "km = [44123,6363,31293,0., 13891]\n",
        "anos = [2003,1990,2010, 2007,2010]"
      ],
      "metadata": {
        "id": "olwhhfhLwafc"
      },
      "execution_count": 36,
      "outputs": []
    },
    {
      "cell_type": "code",
      "source": [
        "idade = 2019 - anos   #no list do python precisa do for"
      ],
      "metadata": {
        "id": "L1uMUu5FxgCf"
      },
      "execution_count": null,
      "outputs": []
    },
    {
      "cell_type": "code",
      "source": [
        "km = np.array([44123,6363,31293,0., 13891])\n",
        "anos = np.array([2003,1990,2010, 2007,2010])"
      ],
      "metadata": {
        "id": "xiYXsy2Pxh4d"
      },
      "execution_count": 41,
      "outputs": []
    },
    {
      "cell_type": "code",
      "source": [
        "idade = 2019 - anos   #no numpy podemos fazer a operacao"
      ],
      "metadata": {
        "id": "YDZiPPIhxu-B"
      },
      "execution_count": 42,
      "outputs": []
    },
    {
      "cell_type": "code",
      "source": [
        "idade"
      ],
      "metadata": {
        "id": "wSPYHYWExwfQ"
      },
      "execution_count": null,
      "outputs": []
    },
    {
      "cell_type": "code",
      "source": [
        "contador = np.arange(10)"
      ],
      "metadata": {
        "id": "8T62EJdMx1TJ"
      },
      "execution_count": 44,
      "outputs": []
    },
    {
      "cell_type": "code",
      "source": [
        "contador"
      ],
      "metadata": {
        "colab": {
          "base_uri": "https://localhost:8080/"
        },
        "id": "R5olZ_mK0XWJ",
        "outputId": "23e46ad7-be40-4972-ee35-92d9a344aaba"
      },
      "execution_count": 45,
      "outputs": [
        {
          "output_type": "execute_result",
          "data": {
            "text/plain": [
              "array([0, 1, 2, 3, 4, 5, 6, 7, 8, 9])"
            ]
          },
          "metadata": {},
          "execution_count": 45
        }
      ]
    },
    {
      "cell_type": "code",
      "source": [
        "contador > 5"
      ],
      "metadata": {
        "colab": {
          "base_uri": "https://localhost:8080/"
        },
        "id": "MPS0fQn00X5y",
        "outputId": "50b20eba-9a1f-4c17-d3e2-df75831f961a"
      },
      "execution_count": 46,
      "outputs": [
        {
          "output_type": "execute_result",
          "data": {
            "text/plain": [
              "array([False, False, False, False, False, False,  True,  True,  True,\n",
              "        True])"
            ]
          },
          "metadata": {},
          "execution_count": 46
        }
      ]
    },
    {
      "cell_type": "code",
      "source": [
        "contador[contador>5] "
      ],
      "metadata": {
        "colab": {
          "base_uri": "https://localhost:8080/"
        },
        "id": "J7Ib8iVV0ZEx",
        "outputId": "1dd6f2d5-b363-462b-bf60-7fd7f1002c87"
      },
      "execution_count": 47,
      "outputs": [
        {
          "output_type": "execute_result",
          "data": {
            "text/plain": [
              "array([6, 7, 8, 9])"
            ]
          },
          "metadata": {},
          "execution_count": 47
        }
      ]
    },
    {
      "cell_type": "code",
      "source": [
        ""
      ],
      "metadata": {
        "id": "YAEEXH_J0a76"
      },
      "execution_count": null,
      "outputs": []
    }
  ]
}